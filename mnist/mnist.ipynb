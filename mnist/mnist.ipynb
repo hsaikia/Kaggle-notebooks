{
  "cells": [
    {
      "metadata": {
        "_uuid": "8f2839f25d086af736a60e9eeb907d3b93b6e0e5",
        "_cell_guid": "b1076dfc-b9ad-4769-8c92-a6c4dae69d19",
        "trusted": true
      },
      "cell_type": "code",
      "source": "# This Python 3 environment comes with many helpful analytics libraries installed\n# It is defined by the kaggle/python docker image: https://github.com/kaggle/docker-python\n# For example, here's several helpful packages to load in \n\nimport numpy as np # linear algebra\nimport pandas as pd # data processing, CSV file I/O (e.g. pd.read_csv)\n\n# Input data files are available in the \"../input/\" directory.\n# For example, running this (by clicking run or pressing Shift+Enter) will list the files in the input directory\n\nimport os\nprint(os.listdir(\"../input\"))\n\n# Any results you write to the current directory are saved as output.",
      "execution_count": null,
      "outputs": []
    },
    {
      "metadata": {
        "_cell_guid": "79c7e3d0-c299-4dcb-8224-4455121ee9b0",
        "_uuid": "d629ff2d2480ee46fbb7e2d37f6b5fab8052498a",
        "trusted": true
      },
      "cell_type": "code",
      "source": "import matplotlib.pyplot as plt\nimport pandas as pd\nimport numpy as np\nimport seaborn as sns",
      "execution_count": null,
      "outputs": []
    },
    {
      "metadata": {
        "trusted": true,
        "_uuid": "12b57c5c743dd5b099347de77da14d77acbb402f"
      },
      "cell_type": "code",
      "source": "train = pd.read_csv('../input/train.csv')\ntest = pd.read_csv('../input/test.csv')",
      "execution_count": null,
      "outputs": []
    },
    {
      "metadata": {
        "trusted": true,
        "_uuid": "c297351af91993ed2f4c5f494d7329b1365aab9e"
      },
      "cell_type": "code",
      "source": "Y_train = train[\"label\"]\n# X_train = train.drop(labels = [\"label\"], axis=1) # also works\nX_train = train.drop([\"label\"], axis=1) # axis=1 for columns and axis=0 for rows",
      "execution_count": null,
      "outputs": []
    },
    {
      "metadata": {
        "trusted": true,
        "_uuid": "adff366e8348d2b81f41b94a0d828596be326ded"
      },
      "cell_type": "code",
      "source": "X_train.shape",
      "execution_count": null,
      "outputs": []
    },
    {
      "metadata": {
        "trusted": true,
        "_uuid": "ec37198729826014024b0366bdd5cf3ac8c6db4c"
      },
      "cell_type": "code",
      "source": "g = sns.countplot(Y_train)",
      "execution_count": null,
      "outputs": []
    },
    {
      "metadata": {
        "trusted": true,
        "_uuid": "02a28096d7a7a577be51203bacb7c67c25015be5"
      },
      "cell_type": "code",
      "source": "# Normalize\nX_train = X_train / 255.0\ntest = test / 255.0",
      "execution_count": null,
      "outputs": []
    },
    {
      "metadata": {
        "trusted": true,
        "_uuid": "12e1f964c279cc98be5fea9b4d999a60091cfa45"
      },
      "cell_type": "code",
      "source": "X_train = X_train.values.reshape(-1, 28, 28, 1) # 3d reshape, unknown x 28 x 28 x 1(single color channel)\ntest = test.values.reshape(-1, 28, 28, 1)",
      "execution_count": null,
      "outputs": []
    },
    {
      "metadata": {
        "trusted": true,
        "_uuid": "f0910539fdce5410f11b9f7c10591f60b373008a"
      },
      "cell_type": "code",
      "source": "import random",
      "execution_count": null,
      "outputs": []
    },
    {
      "metadata": {
        "trusted": true,
        "_uuid": "7a25d2a648fdba2e46c9909952dbc1a40f10f655"
      },
      "cell_type": "code",
      "source": "# Visualizing some data\n# index = random.randint(0, len(X_train))\n#g = plt.imshow(X_train[index][:,:, 0], cmap=plt.get_cmap('Greys'))\n# print(Y_train[index])\nindex = random.randint(0, len(test))\ng = plt.imshow(test[index][:,:, 0], cmap=plt.get_cmap('Greys'))\n",
      "execution_count": null,
      "outputs": []
    },
    {
      "metadata": {
        "trusted": true,
        "_uuid": "07853cabf9abafe0ac91949f91a8861471e9b53b"
      },
      "cell_type": "code",
      "source": "# Convert labels to one-hot encoding\n\nfrom keras.utils import to_categorical",
      "execution_count": null,
      "outputs": []
    },
    {
      "metadata": {
        "trusted": true,
        "_uuid": "0b2daad4a0e709571aec91178018e07daa312c04"
      },
      "cell_type": "code",
      "source": "Y_train = to_categorical(Y_train)",
      "execution_count": null,
      "outputs": []
    },
    {
      "metadata": {
        "trusted": true,
        "_uuid": "18e955a40fdde4ef636afca4e790fcfe467fde2d"
      },
      "cell_type": "code",
      "source": "Y_train[0]",
      "execution_count": null,
      "outputs": []
    },
    {
      "metadata": {
        "trusted": true,
        "_uuid": "e6ae03948591fda92d91ecf62af53eb4993ebecc"
      },
      "cell_type": "code",
      "source": "from keras.models import Sequential\nfrom keras.layers import Dense, Conv2D, Flatten\n\nmodel = Sequential()\n\nmodel.add(Conv2D(64, kernel_size=3, activation='relu', input_shape=(28,28,1)))\nmodel.add(Conv2D(32, kernel_size=3, activation='relu'))\nmodel.add(Flatten())\nmodel.add(Dense(10, activation='softmax'))\n",
      "execution_count": null,
      "outputs": []
    },
    {
      "metadata": {
        "trusted": true,
        "_uuid": "2978eed7f99d70924f120a5e50d5477ae10cdef3"
      },
      "cell_type": "code",
      "source": "# compile the model\nmodel.compile(optimizer='adam', loss='categorical_crossentropy', metrics=['accuracy'])",
      "execution_count": null,
      "outputs": []
    },
    {
      "metadata": {
        "trusted": true,
        "_uuid": "8e58a7f950252fe508c1f46b787b4ca63f07fa6f"
      },
      "cell_type": "code",
      "source": "#train \nmodel.fit(X_train, Y_train, validation_split=0.2, batch_size=100, epochs=10, verbose=1)",
      "execution_count": null,
      "outputs": []
    },
    {
      "metadata": {
        "trusted": true,
        "_uuid": "49fd146725d44646c0464686a4ad7e22aa992d48"
      },
      "cell_type": "code",
      "source": "y_test = model.predict(test)",
      "execution_count": null,
      "outputs": []
    },
    {
      "metadata": {
        "trusted": true,
        "_uuid": "a7b6800b7da390ab9c9e01a7c8a86bc6c9025fbe"
      },
      "cell_type": "code",
      "source": "y_test.shape",
      "execution_count": null,
      "outputs": []
    },
    {
      "metadata": {
        "trusted": true,
        "_uuid": "e18b6a199150937e18158ccdc48c09ab791c1212"
      },
      "cell_type": "code",
      "source": "y_test[0]",
      "execution_count": null,
      "outputs": []
    },
    {
      "metadata": {
        "trusted": true,
        "_uuid": "a9c5848a8c4f8e0a64b5c5911215bab0a81ab782"
      },
      "cell_type": "code",
      "source": "y_test_idx = np.argmax(y_test, axis=1)",
      "execution_count": null,
      "outputs": []
    },
    {
      "metadata": {
        "trusted": true,
        "_uuid": "84e3a4e93cdca6b267758b860d5078a89155c113"
      },
      "cell_type": "code",
      "source": "y_test_idx.shape",
      "execution_count": null,
      "outputs": []
    },
    {
      "metadata": {
        "trusted": true,
        "_uuid": "31dcdf4ddbfd0ac01d49f972f34c514286283b28"
      },
      "cell_type": "code",
      "source": "y_test_idx[0]",
      "execution_count": null,
      "outputs": []
    },
    {
      "metadata": {
        "trusted": true,
        "_uuid": "0536edd551e4995fc48572bbed2607dd9ea43aec"
      },
      "cell_type": "code",
      "source": "submission = pd.DataFrame({'ImageId' : range(1, len(y_test_idx) + 1), 'Label' : y_test_idx})",
      "execution_count": null,
      "outputs": []
    },
    {
      "metadata": {
        "trusted": true,
        "_uuid": "17eb1492b18e5572f231e7b30315cbcbaeb65660"
      },
      "cell_type": "code",
      "source": "submission.to_csv(\"mnist_submission.csv\", index=False)",
      "execution_count": null,
      "outputs": []
    },
    {
      "metadata": {
        "trusted": true,
        "_uuid": "e1fc1d2e0a98b483790b4dee5a583b50fecaac5f"
      },
      "cell_type": "code",
      "source": "",
      "execution_count": null,
      "outputs": []
    }
  ],
  "metadata": {
    "kernelspec": {
      "display_name": "Python 3",
      "language": "python",
      "name": "python3"
    },
    "language_info": {
      "name": "python",
      "version": "3.6.6",
      "mimetype": "text/x-python",
      "codemirror_mode": {
        "name": "ipython",
        "version": 3
      },
      "pygments_lexer": "ipython3",
      "nbconvert_exporter": "python",
      "file_extension": ".py"
    }
  },
  "nbformat": 4,
  "nbformat_minor": 1
}